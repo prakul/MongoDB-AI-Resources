{
  "nbformat": 4,
  "nbformat_minor": 0,
  "metadata": {
    "colab": {
      "provenance": [],
      "authorship_tag": "ABX9TyMC/KEWl8XubXYc+fwd9ibE",
      "include_colab_link": true
    },
    "kernelspec": {
      "name": "python3",
      "display_name": "Python 3"
    },
    "language_info": {
      "name": "python"
    }
  },
  "cells": [
    {
      "cell_type": "markdown",
      "metadata": {
        "id": "view-in-github",
        "colab_type": "text"
      },
      "source": [
        "<a href=\"https://colab.research.google.com/github/prakul/MongoDB-AI-Resources/blob/main/Langchain_%2B_MongoDB_101.ipynb\" target=\"_parent\"><img src=\"https://colab.research.google.com/assets/colab-badge.svg\" alt=\"Open In Colab\"/></a>"
      ]
    },
    {
      "cell_type": "markdown",
      "source": [
        "# Install prerequisites dependencies\n"
      ],
      "metadata": {
        "id": "3CaG54pnNhqM"
      }
    },
    {
      "cell_type": "code",
      "source": [
        "!pip install langchain pypdf pymongo openai python-dotenv tiktoken"
      ],
      "metadata": {
        "id": "HwQZnho4m5IY"
      },
      "execution_count": null,
      "outputs": []
    },
    {
      "cell_type": "markdown",
      "source": [
        "# Setup the environment"
      ],
      "metadata": {
        "id": "H0zbGavtNpMJ"
      }
    },
    {
      "cell_type": "code",
      "source": [
        "import os\n",
        "from dotenv import load_dotenv\n",
        "from pymongo import MongoClient\n",
        "\n",
        "load_dotenv(override=True)\n",
        "\n",
        "# Add an environment file to the notebook root directory called .env with MONGO_URI=\"xxx\" to load these envvars\n",
        "\n",
        "OPENAI_API_KEY = os.environ[\"OPENAI_API_KEY\"]\n",
        "MONGO_URI = os.environ[\"MONGO_URI\"]\n",
        "DB_NAME = \"langchain-test\"\n",
        "COLLECTION_NAME = \"test\"\n",
        "ATLAS_VECTOR_SEARCH_INDEX_NAME = \"default\"\n",
        "\n",
        "client = MongoClient(MONGO_URI)\n",
        "db = client[DB_NAME]\n",
        "MONGODB_COLLECTION = db[COLLECTION_NAME]"
      ],
      "metadata": {
        "id": "JWl8u9gdyBGR"
      },
      "execution_count": null,
      "outputs": []
    },
    {
      "cell_type": "markdown",
      "source": [
        "#DATA PREPARATION\n",
        "\n",
        " Create an Atlas search index via Atlas UI -> Search -> JSON Editor with the following definition\n",
        " ```\n",
        " {\n",
        "   \"fields\":[\n",
        "      {\n",
        "         \"type\": \"vector\",\n",
        "         \"path\": \"embedding\",\n",
        "         \"numDimensions\": 1536,\n",
        "         \"similarity\": \"cosine\"\n",
        "      }\n",
        "   ]\n",
        "}\n",
        "```"
      ],
      "metadata": {
        "id": "F7v5H-48MW18"
      }
    },
    {
      "cell_type": "code",
      "source": [
        "from langchain.document_loaders import PyPDFLoader\n",
        "\n",
        "loader = PyPDFLoader(\"https://arxiv.org/pdf/2303.08774.pdf\")\n",
        "data = loader.load()"
      ],
      "metadata": {
        "id": "bLosUpvDmDOW"
      },
      "execution_count": null,
      "outputs": []
    },
    {
      "cell_type": "code",
      "source": [
        "from langchain.text_splitter import RecursiveCharacterTextSplitter\n",
        "\n",
        "text_splitter = RecursiveCharacterTextSplitter(chunk_size = 500, chunk_overlap = 0)\n",
        "docs = text_splitter.split_documents(data)"
      ],
      "metadata": {
        "id": "Zot6nbm1QLUj"
      },
      "execution_count": null,
      "outputs": []
    },
    {
      "cell_type": "code",
      "source": [
        "from langchain.embeddings import OpenAIEmbeddings\n",
        "from langchain.vectorstores import MongoDBAtlasVectorSearch\n",
        "\n",
        "# insert the documents in MongoDB Atlas Vector Search\n",
        "x = MongoDBAtlasVectorSearch.from_documents(\n",
        "     documents=docs, embedding=OpenAIEmbeddings(disallowed_special=()), collection=MONGODB_COLLECTION, index_name=ATLAS_VECTOR_SEARCH_INDEX_NAME\n",
        " )\n"
      ],
      "metadata": {
        "id": "NUrRHjYumSh_"
      },
      "execution_count": null,
      "outputs": []
    },
    {
      "cell_type": "markdown",
      "source": [
        "#DATA QUERY"
      ],
      "metadata": {
        "id": "I0yiKlx9MRXi"
      }
    },
    {
      "cell_type": "code",
      "source": [
        "\n",
        "vector_search = MongoDBAtlasVectorSearch.from_connection_string(\n",
        "    MONGO_URI,\n",
        "    DB_NAME + \".\" + COLLECTION_NAME,\n",
        "    OpenAIEmbeddings(disallowed_special=()),\n",
        "    index_name=ATLAS_VECTOR_SEARCH_INDEX_NAME\n",
        ")\n"
      ],
      "metadata": {
        "id": "TZp7_CBfxTOB"
      },
      "execution_count": null,
      "outputs": []
    },
    {
      "cell_type": "code",
      "source": [
        "from langchain.chains import RetrievalQA\n",
        "from langchain.chat_models import ChatOpenAI\n",
        "question = \"How much better is GPT-4 in reducing hallucinations over GPT-3.5\"\n",
        "llm = ChatOpenAI(model_name=\"gpt-3.5-turbo\", temperature=0)\n"
      ],
      "metadata": {
        "colab": {
          "base_uri": "https://localhost:8080/"
        },
        "id": "IHZQfWaXmV3N",
        "outputId": "8c28a53c-c1e7-42e3-e912-b17030d0cf6c"
      },
      "execution_count": null,
      "outputs": [
        {
          "output_type": "execute_result",
          "data": {
            "text/plain": [
              "{'query': 'How much better is GPT-4 in reducing hallucinations over GPT-3.5',\n",
              " 'result': \"I'm sorry, but I don't have access to information about the specific capabilities or improvements of GPT-4 over GPT-3.5. My knowledge is based on GPT-3, and I don't have real-time updates on subsequent versions.\"}"
            ]
          },
          "metadata": {},
          "execution_count": 18
        }
      ]
    },
    {
      "cell_type": "code",
      "source": [
        "qa_chain = RetrievalQA.from_chain_type(llm, retriever=vector_search.as_retriever())\n",
        "qa_chain({\"query\": question})\n"
      ],
      "metadata": {
        "colab": {
          "base_uri": "https://localhost:8080/"
        },
        "id": "BZLYniCQmYhi",
        "outputId": "af7518bd-222e-4cde-eaef-db29310f6969"
      },
      "execution_count": null,
      "outputs": [
        {
          "output_type": "execute_result",
          "data": {
            "text/plain": [
              "{'query': 'How much better is GPT-4 in reducing hallucinations over GPT-3.5',\n",
              " 'result': 'GPT-4 scores 19 percentage points higher than GPT-3.5 in reducing hallucinations.'}"
            ]
          },
          "metadata": {},
          "execution_count": 22
        }
      ]
    }
  ]
}