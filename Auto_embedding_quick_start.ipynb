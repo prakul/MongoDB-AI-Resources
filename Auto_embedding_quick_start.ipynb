{
  "cells": [
    {
      "cell_type": "markdown",
      "metadata": {
        "id": "view-in-github",
        "colab_type": "text"
      },
      "source": [
        "<a href=\"https://colab.research.google.com/github/prakul/MongoDB-AI-Resources/blob/main/Auto_embedding_quick_start.ipynb\" target=\"_parent\"><img src=\"https://colab.research.google.com/assets/colab-badge.svg\" alt=\"Open In Colab\"/></a>"
      ]
    },
    {
      "cell_type": "markdown",
      "metadata": {
        "id": "4oePtTdNvmWF"
      },
      "source": [
        "# Atlas Vector Search Quick Start"
      ]
    },
    {
      "cell_type": "markdown",
      "metadata": {
        "id": "5OJrBT0EvmWG"
      },
      "source": [
        "This notebook is a companion to the [Quick Start](https://www.mongodb.com/docs/atlas/atlas-vector-search/tutorials/vector-search-quick-start/) page. Refer to the page for set-up instructions and detailed explanations.\n",
        "\n",
        "<a target=\"_blank\" href=\"https://colab.research.google.com/github/mongodb/docs-notebooks/blob/main/get-started/quick-start.ipynb\">\n",
        "  <img src=\"https://colab.research.google.com/assets/colab-badge.svg\" alt=\"Open In Colab\"/>\n",
        "</a>"
      ]
    },
    {
      "cell_type": "code",
      "execution_count": 32,
      "metadata": {
        "vscode": {
          "languageId": "shellscript"
        },
        "id": "NN3khU9EvmWG",
        "colab": {
          "base_uri": "https://localhost:8080/"
        },
        "outputId": "418584cb-eb27-4654-d330-35e14fd859c2"
      },
      "outputs": [
        {
          "output_type": "stream",
          "name": "stdout",
          "text": [
            "Requirement already satisfied: pymongo in /usr/local/lib/python3.11/dist-packages (4.13.0)\n",
            "Requirement already satisfied: python-dotenv in /usr/local/lib/python3.11/dist-packages (1.1.0)\n",
            "Requirement already satisfied: dnspython<3.0.0,>=1.16.0 in /usr/local/lib/python3.11/dist-packages (from pymongo) (2.7.0)\n"
          ]
        }
      ],
      "source": [
        "pip install pymongo python-dotenv"
      ]
    },
    {
      "cell_type": "code",
      "execution_count": 33,
      "metadata": {
        "id": "t3bV29gcvmWH"
      },
      "outputs": [],
      "source": [
        "from pymongo.mongo_client import MongoClient\n",
        "from pymongo.operations import SearchIndexModel\n",
        "import os\n",
        "from dotenv import load_dotenv\n",
        "import time\n",
        "import urllib\n",
        "load_dotenv(override=True)\n",
        "\n",
        "# Connect to your Atlas deployment\n",
        "MONGO_URI = os.environ[\"MONGO_URI\"]\n",
        "uname = os.environ[\"uname\"]\n",
        "pword = urllib.parse.quote_plus(os.environ[\"pword\"])\n",
        "uri = MONGO_URI.format(uname, pword)\n",
        "client = MongoClient(uri)\n",
        "\n",
        "# Access your database and collection\n",
        "database = client[\"sample_mflix\"]\n",
        "collection = database[\"embedded_movies\"]"
      ]
    },
    {
      "cell_type": "code",
      "source": [
        "\n",
        "def create_autoembed_index(path, embedding_model, search_index_name):\n",
        "    # Create your index model, then create the search index\n",
        "    search_index_model = SearchIndexModel(\n",
        "    definition={\n",
        "        \"fields\": [\n",
        "        {\n",
        "            \"type\": \"text\",\n",
        "            \"path\": path,\n",
        "            \"model\": embedding_model\n",
        "        }\n",
        "        ]\n",
        "    },\n",
        "    name=search_index_name,\n",
        "    type=\"vectorSearch\",\n",
        "    )\n",
        "\n",
        "    result = collection.create_search_index(model=search_index_model)\n",
        "    print(\"New search index named \" + result + \" is building.\")\n",
        "\n",
        "    # Wait for initial sync to complete\n",
        "    print(\"Polling to check if the index is ready. This may take up a short while depending on the size of your collection and the embedding model chosen.\")\n",
        "    predicate=None\n",
        "    if predicate is None:\n",
        "        predicate = lambda index: index.get(\"queryable\") is True\n",
        "\n",
        "    while True:\n",
        "        indices = list(collection.list_search_indexes(result))\n",
        "        if len(indices) and predicate(indices[0]):\n",
        "            break\n",
        "        time.sleep(5)\n",
        "    print(result + \" is ready for querying.\")\n",
        "    return result"
      ],
      "metadata": {
        "id": "Xd1wPJiSzmHa"
      },
      "execution_count": 17,
      "outputs": []
    },
    {
      "cell_type": "code",
      "source": [
        "path = \"plot\"\n",
        "embedding_model = \"voyage-3.5-lite\"\n",
        "search_index_name = \"demo_test\"\n",
        "\n",
        "res = create_autoembed_index(path, embedding_model, search_index_name)"
      ],
      "metadata": {
        "colab": {
          "base_uri": "https://localhost:8080/"
        },
        "id": "xmjHt4M794p5",
        "outputId": "3f636641-630b-4ce1-cc76-3dab907682d6"
      },
      "execution_count": 34,
      "outputs": [
        {
          "output_type": "stream",
          "name": "stdout",
          "text": [
            "New search index named demo_test is building.\n",
            "Polling to check if the index is ready. This may take up a short while depending on the size of your collection and the embedding model chosen.\n",
            "demo_test is ready for querying.\n"
          ]
        }
      ]
    },
    {
      "cell_type": "code",
      "execution_count": 28,
      "metadata": {
        "id": "ac2T9saJvmWH"
      },
      "outputs": [],
      "source": [
        "def get_results(index_name, path, query):\n",
        "    pipeline = [\n",
        "    {\n",
        "        '$vectorSearch': {\n",
        "        'index': index_name,\n",
        "        'path': path,\n",
        "        'query': query,\n",
        "        'numCandidates': 150,\n",
        "        'limit': 10\n",
        "        }\n",
        "    }, {\n",
        "        '$project': {\n",
        "            '_id':0,\n",
        "            'title':1,\n",
        "            'plot':1,\n",
        "        'score': {\n",
        "            '$meta': 'vectorSearchScore'\n",
        "        }\n",
        "        }\n",
        "    }\n",
        "    ]\n",
        "\n",
        "    res = collection.aggregate(pipeline)\n",
        "    return res"
      ]
    },
    {
      "cell_type": "code",
      "source": [
        "query = 'funny movies with out of world characters'\n",
        "res = get_results(search_index_name, path, query)\n",
        "for i in res:\n",
        "    print(f\"(Title: {i['title']}, Score: {i['score']}, Plot: {i['plot']}\")"
      ],
      "metadata": {
        "colab": {
          "base_uri": "https://localhost:8080/"
        },
        "id": "XJawSWHa3qRU",
        "outputId": "92c5bf43-ff6c-411b-aa90-f01414cf3761"
      },
      "execution_count": 35,
      "outputs": [
        {
          "output_type": "stream",
          "name": "stdout",
          "text": [
            "(Title: Jesus Christ Vampire Hunter, Score: 0.5138512849807739, Plot: Kung-Fu Action / Comedy / Horror / Musical about the second coming.\n",
            "(Title: The Nine Lives of Tomas Katz, Score: 0.5127407908439636, Plot: The last day of creation. A stranger arrives in London. No one knows who he is or where he has come from. By the time he leaves, the entire universe will have been erased. A black comedy ...\n",
            "(Title: King Size, Score: 0.5112178921699524, Plot: A comedy. The story follows a young scientist in the contemporary world, who actually came from the world of dwarves, thanks to a magic potion, held by the Big Eater, ruler of the dwarves. ...\n",
            "(Title: Futurama: Bender's Game, Score: 0.5082553029060364, Plot: The Planet Express crew get trapped in a fantasy world.\n",
            "(Title: Howard the Duck, Score: 0.504088282585144, Plot: A sarcastic humanoid duck is pulled from his homeworld to Earth where he must stop an alien invader.\n",
            "(Title: Fantastic Four, Score: 0.5038604140281677, Plot: Four young outsiders teleport to an alternate and dangerous universe which alters their physical form in shocking ways. The four must learn to harness their new abilities and work together to save Earth from a former friend turned enemy.\n",
            "(Title: The Gods Must Be Crazy, Score: 0.5035787224769592, Plot: A comic allegory about a traveling Bushman who encounters modern civilization and its stranger aspects, including a clumsy scientist and a band of revolutionaries.\n",
            "(Title: Animal, Score: 0.5034688115119934, Plot: The funny misadventures of a dating duo of film stunt professionals in France.\n",
            "(Title: Jimmy Neutron: Boy Genius, Score: 0.5027748942375183, Plot: An 8-year-old boy genius and his friends must rescue their parents after the adults are abducted by aliens.\n",
            "(Title: Nicotina, Score: 0.5019858479499817, Plot: A real-time dark comedy about a science geek who tangles with a clutch of Russian gangsters after he delivers them the wrong computer disk.\n"
          ]
        }
      ]
    },
    {
      "cell_type": "code",
      "source": [
        "path = \"plot\"\n",
        "embedding_model_1 = \"voyage-3-large\"\n",
        "search_index_name_1 = \"demo_test_large\"\n",
        "\n",
        "res = create_autoembed_index(path, embedding_model_1, search_index_name_1)\n"
      ],
      "metadata": {
        "colab": {
          "base_uri": "https://localhost:8080/"
        },
        "id": "Ur78YEJ73DWw",
        "outputId": "8158be7a-66fb-4cbc-bff9-bd8bcd59ea9f"
      },
      "execution_count": 36,
      "outputs": [
        {
          "output_type": "stream",
          "name": "stdout",
          "text": [
            "New search index named demo_test_large is building.\n",
            "Polling to check if the index is ready. This may take up a short while depending on the size of your collection and the embedding model chosen.\n",
            "demo_test_large is ready for querying.\n"
          ]
        }
      ]
    },
    {
      "cell_type": "code",
      "source": [
        "query = 'funny movies with out of world characters'\n",
        "\n",
        "res = get_results(search_index_name_1, path, query)\n",
        "# print results\n",
        "for i in res:\n",
        "    print(f\"(Title: {i['title']}, Score: {i['score']}, Plot: {i['plot']}\")"
      ],
      "metadata": {
        "colab": {
          "base_uri": "https://localhost:8080/"
        },
        "id": "MSxLDEra5Bz5",
        "outputId": "c9afd1ab-7f4f-44d7-b58c-541e4cd3f2e9"
      },
      "execution_count": 37,
      "outputs": [
        {
          "output_type": "stream",
          "name": "stdout",
          "text": [
            "(Title: King Size, Score: 0.5197460651397705, Plot: A comedy. The story follows a young scientist in the contemporary world, who actually came from the world of dwarves, thanks to a magic potion, held by the Big Eater, ruler of the dwarves. ...\n",
            "(Title: Critters, Score: 0.5195062160491943, Plot: A race of small, furry aliens make lunch out of the locals in a farming town.\n",
            "(Title: Message from Space, Score: 0.5171539187431335, Plot: In this Star Wars take-off, the peaceful planet of Jillucia has been nearly wiped out by the Gavanas, whose leader takes orders from his mother (played a comic actor in drag) rather than ...\n",
            "(Title: Message from Space, Score: 0.5171539187431335, Plot: In this Star Wars take-off, the peaceful planet of Jillucia has been nearly wiped out by the Gavanas, whose leader takes orders from his mother (played a comic actor in drag) rather than ...\n",
            "(Title: The Wrestler, Score: 0.5053803324699402, Plot: Ageing wrestler and circus strongman is put in an institution located somewhere in a world of its own, next to an abandoned railway station with pigs running loose on the tracks in almost ...\n",
            "(Title: Howard the Duck, Score: 0.5051047801971436, Plot: A sarcastic humanoid duck is pulled from his homeworld to Earth where he must stop an alien invader.\n",
            "(Title: Hot Shots! Part Deux, Score: 0.5001450181007385, Plot: \"Rambo\" parody in which Topper Harley leads a rescue team into Iraq to save Iraqi war prisoners and all of their previous rescue teams.\n",
            "(Title: Monty Python and the Holy Grail, Score: 0.4999767541885376, Plot: King Arthur and his knights embark on a low-budget search for the Grail, encountering many very silly obstacles.\n",
            "(Title: Journey to Saturn, Score: 0.4984833896160126, Plot: A danish crew of misfits travel to Saturn in search for natural resources. However, the planet is colonized by a ruthless army of Aliens that turn their eye on Earth and invade Denmark. ...\n",
            "(Title: Keep Your Right Up, Score: 0.4979671239852905, Plot: A film with idiotic prince and Rita Mitsouko who records a new album.\n"
          ]
        }
      ]
    }
  ],
  "metadata": {
    "kernelspec": {
      "display_name": "Python 3",
      "language": "python",
      "name": "python3"
    },
    "language_info": {
      "codemirror_mode": {
        "name": "ipython",
        "version": 3
      },
      "file_extension": ".py",
      "mimetype": "text/x-python",
      "name": "python",
      "nbconvert_exporter": "python",
      "pygments_lexer": "ipython3",
      "version": "3.9.12"
    },
    "colab": {
      "provenance": [],
      "include_colab_link": true
    }
  },
  "nbformat": 4,
  "nbformat_minor": 0
}