{
  "cells": [
    {
      "cell_type": "markdown",
      "metadata": {
        "id": "view-in-github",
        "colab_type": "text"
      },
      "source": [
        "<a href=\"https://colab.research.google.com/github/prakul/MongoDB-AI-Resources/blob/main/Auto_embedding_quick_start_%2B_Views.ipynb\" target=\"_parent\"><img src=\"https://colab.research.google.com/assets/colab-badge.svg\" alt=\"Open In Colab\"/></a>"
      ]
    },
    {
      "cell_type": "markdown",
      "metadata": {
        "id": "4oePtTdNvmWF"
      },
      "source": [
        "# Atlas Vector Search Quick Start"
      ]
    },
    {
      "cell_type": "markdown",
      "metadata": {
        "id": "5OJrBT0EvmWG"
      },
      "source": [
        "This notebook is a companion to the [Quick Start](https://www.mongodb.com/docs/atlas/atlas-vector-search/tutorials/vector-search-quick-start/) page. Refer to the page for set-up instructions and detailed explanations.\n",
        "\n",
        "<a target=\"_blank\" href=\"https://colab.research.google.com/github/mongodb/docs-notebooks/blob/main/get-started/quick-start.ipynb\">\n",
        "  <img src=\"https://colab.research.google.com/assets/colab-badge.svg\" alt=\"Open In Colab\"/>\n",
        "</a>"
      ]
    },
    {
      "cell_type": "code",
      "execution_count": 18,
      "metadata": {
        "vscode": {
          "languageId": "shellscript"
        },
        "id": "NN3khU9EvmWG",
        "colab": {
          "base_uri": "https://localhost:8080/"
        },
        "outputId": "48047d2a-7281-452b-89d4-f3d3cf523b63"
      },
      "outputs": [
        {
          "output_type": "stream",
          "name": "stdout",
          "text": [
            "Requirement already satisfied: pymongo in /usr/local/lib/python3.11/dist-packages (4.13.2)\n",
            "Requirement already satisfied: python-dotenv in /usr/local/lib/python3.11/dist-packages (1.1.0)\n",
            "Requirement already satisfied: pandas in /usr/local/lib/python3.11/dist-packages (2.2.2)\n",
            "Requirement already satisfied: dnspython<3.0.0,>=1.16.0 in /usr/local/lib/python3.11/dist-packages (from pymongo) (2.7.0)\n",
            "Requirement already satisfied: numpy>=1.23.2 in /usr/local/lib/python3.11/dist-packages (from pandas) (2.0.2)\n",
            "Requirement already satisfied: python-dateutil>=2.8.2 in /usr/local/lib/python3.11/dist-packages (from pandas) (2.9.0.post0)\n",
            "Requirement already satisfied: pytz>=2020.1 in /usr/local/lib/python3.11/dist-packages (from pandas) (2025.2)\n",
            "Requirement already satisfied: tzdata>=2022.7 in /usr/local/lib/python3.11/dist-packages (from pandas) (2025.2)\n",
            "Requirement already satisfied: six>=1.5 in /usr/local/lib/python3.11/dist-packages (from python-dateutil>=2.8.2->pandas) (1.17.0)\n"
          ]
        }
      ],
      "source": [
        "pip install pymongo python-dotenv pandas"
      ]
    },
    {
      "cell_type": "code",
      "execution_count": 8,
      "metadata": {
        "id": "t3bV29gcvmWH"
      },
      "outputs": [],
      "source": [
        "from pymongo.mongo_client import MongoClient\n",
        "from pymongo.operations import SearchIndexModel\n",
        "import os\n",
        "from dotenv import load_dotenv\n",
        "import time\n",
        "import urllib\n",
        "load_dotenv(override=True)\n",
        "\n",
        "# Connect to your Atlas deployment\n",
        "MONGO_URI = os.environ[\"MONGO_URI\"]\n",
        "uname = os.environ[\"uname\"]\n",
        "pword = urllib.parse.quote_plus(os.environ[\"pword\"])\n",
        "uri = MONGO_URI.format(uname, pword)\n",
        "client = MongoClient(uri)\n",
        "\n",
        "# Access your database and collection\n",
        "database = client[\"sample_mflix\"]\n"
      ]
    },
    {
      "cell_type": "code",
      "source": [
        "database.list_collection_names()\n"
      ],
      "metadata": {
        "colab": {
          "base_uri": "https://localhost:8080/"
        },
        "id": "jjA5vObq4edf",
        "outputId": "b71a4a61-22d4-4cf0-d641-6a37dcb156b4"
      },
      "execution_count": 5,
      "outputs": [
        {
          "output_type": "execute_result",
          "data": {
            "text/plain": [
              "['theaters', 'comments', 'sessions', 'users', 'embedded_movies', 'movies']"
            ]
          },
          "metadata": {},
          "execution_count": 5
        }
      ]
    },
    {
      "cell_type": "code",
      "source": [
        "collection = database[\"movies\"]"
      ],
      "metadata": {
        "id": "WeQcEqEa6BD-"
      },
      "execution_count": null,
      "outputs": []
    },
    {
      "cell_type": "code",
      "source": [
        "collection.count_documents({})"
      ],
      "metadata": {
        "colab": {
          "base_uri": "https://localhost:8080/"
        },
        "id": "7ona5b7B4tID",
        "outputId": "7671407b-438b-472b-be25-f50ec14e08a7"
      },
      "execution_count": 9,
      "outputs": [
        {
          "output_type": "execute_result",
          "data": {
            "text/plain": [
              "21349"
            ]
          },
          "metadata": {},
          "execution_count": 9
        }
      ]
    },
    {
      "cell_type": "code",
      "source": [
        "collection.find_one()"
      ],
      "metadata": {
        "colab": {
          "base_uri": "https://localhost:8080/"
        },
        "id": "Tv6M-D3z6CGS",
        "outputId": "571f0537-2fa4-4af9-d6a9-0f28091623ef"
      },
      "execution_count": 31,
      "outputs": [
        {
          "output_type": "execute_result",
          "data": {
            "text/plain": [
              "{'_id': ObjectId('573a1390f29313caabcd50e5'),\n",
              " 'plot': 'The cartoonist, Winsor McCay, brings the Dinosaurus back to life in the figure of his latest creation, Gertie the Dinosaur.',\n",
              " 'genres': ['Animation', 'Short', 'Comedy'],\n",
              " 'runtime': 12,\n",
              " 'cast': ['Winsor McCay', 'George McManus', 'Roy L. McCardell'],\n",
              " 'num_mflix_comments': 0,\n",
              " 'poster': 'https://m.media-amazon.com/images/M/MV5BMTQxNzI4ODQ3NF5BMl5BanBnXkFtZTgwNzY5NzMwMjE@._V1_SY1000_SX677_AL_.jpg',\n",
              " 'title': 'Gertie the Dinosaur',\n",
              " 'fullplot': 'Winsor Z. McCay bets another cartoonist that he can animate a dinosaur. So he draws a big friendly herbivore called Gertie. Then he get into his own picture. Gertie walks through the picture, eats a tree, meets her creator, and takes him carefully on her back for a ride.',\n",
              " 'languages': ['English'],\n",
              " 'released': datetime.datetime(1914, 9, 15, 0, 0),\n",
              " 'directors': ['Winsor McCay'],\n",
              " 'writers': ['Winsor McCay'],\n",
              " 'awards': {'wins': 1, 'nominations': 0, 'text': '1 win.'},\n",
              " 'lastupdated': '2015-08-18 01:03:15.313000000',\n",
              " 'year': 1914,\n",
              " 'imdb': {'rating': 7.3, 'votes': 1837, 'id': 4008},\n",
              " 'countries': ['USA'],\n",
              " 'type': 'movie',\n",
              " 'tomatoes': {'viewer': {'rating': 3.7, 'numReviews': 29},\n",
              "  'lastUpdated': datetime.datetime(2015, 8, 10, 19, 20, 3)}}"
            ]
          },
          "metadata": {},
          "execution_count": 31
        }
      ]
    },
    {
      "cell_type": "code",
      "source": [
        "def create_autoembed_index(path, embedding_model, search_index_name):\n",
        "    # Create your index model, then create the search index\n",
        "    search_index_model = SearchIndexModel(\n",
        "    definition={\n",
        "        \"fields\": [\n",
        "        {\n",
        "            \"type\": \"text\",\n",
        "            \"path\": path,\n",
        "            \"model\": embedding_model\n",
        "        }\n",
        "        ]\n",
        "    },\n",
        "    name=search_index_name,\n",
        "    type=\"vectorSearch\",\n",
        "    )\n",
        "    start = time.time()\n",
        "    result = collection.create_search_index(model=search_index_model)\n",
        "    print(\"New search index named \" + result + \" is building.\")\n",
        "\n",
        "    # Wait for initial sync to complete\n",
        "    print(\"Polling to check if the index is ready. This may take up a short while depending on the size of your collection and the embedding model chosen.\")\n",
        "    predicate=None\n",
        "    if predicate is None:\n",
        "        predicate = lambda index: index.get(\"queryable\") is True\n",
        "\n",
        "    while True:\n",
        "        indices = list(collection.list_search_indexes(result))\n",
        "        if len(indices) and predicate(indices[0]):\n",
        "            break\n",
        "        time.sleep(5)\n",
        "    print(f\"{result} is ready for querying. Took a total of {time.time()-start} seconds\")\n",
        "    return result"
      ],
      "metadata": {
        "id": "Xd1wPJiSzmHa"
      },
      "execution_count": 13,
      "outputs": []
    },
    {
      "cell_type": "code",
      "source": [
        "path = \"plot\"\n",
        "embedding_model = \"voyage-3.5-lite\"\n",
        "search_index_name = \"demo_test_1\"\n",
        "\n",
        "res = create_autoembed_index(path, embedding_model, search_index_name)"
      ],
      "metadata": {
        "colab": {
          "base_uri": "https://localhost:8080/"
        },
        "id": "xmjHt4M794p5",
        "outputId": "f3dd27f0-64bd-4da9-a0d1-6d99394bcc32"
      },
      "execution_count": 14,
      "outputs": [
        {
          "output_type": "stream",
          "name": "stdout",
          "text": [
            "New search index named demo_test_1 is building.\n",
            "Polling to check if the index is ready. This may take up a short while depending on the size of your collection and the embedding model chosen.\n",
            "demo_test_1 is ready for querying. Took a total of 55.617300033569336 seconds\n"
          ]
        }
      ]
    },
    {
      "cell_type": "code",
      "execution_count": 15,
      "metadata": {
        "id": "ac2T9saJvmWH"
      },
      "outputs": [],
      "source": [
        "def get_results(index_name, path, query):\n",
        "    pipeline = [\n",
        "    {\n",
        "        '$vectorSearch': {\n",
        "            'index': index_name,\n",
        "            'path': path,\n",
        "            'query': query,\n",
        "            'numCandidates': 150,\n",
        "            'limit': 10\n",
        "        }\n",
        "    }, {\n",
        "        '$project': {\n",
        "            '_id':0,\n",
        "            'title':1,\n",
        "            'plot':1,\n",
        "            'score': {\n",
        "                '$meta': 'vectorSearchScore'\n",
        "            }\n",
        "        }\n",
        "    }\n",
        "    ]\n",
        "\n",
        "    res = collection.aggregate(pipeline)\n",
        "    return res"
      ]
    },
    {
      "cell_type": "code",
      "source": [
        "import pandas as pd\n",
        "\n",
        "query = 'funny movies with out of world characters'\n",
        "res0 = list(get_results(search_index_name, path, query))\n",
        "pd.DataFrame(res0).head(10)\n"
      ],
      "metadata": {
        "colab": {
          "base_uri": "https://localhost:8080/",
          "height": 363
        },
        "id": "XJawSWHa3qRU",
        "outputId": "be11d391-4a61-4e7c-e6da-71bdfa996d42"
      },
      "execution_count": 50,
      "outputs": [
        {
          "output_type": "execute_result",
          "data": {
            "text/plain": [
              "                                                plot  \\\n",
              "0  Two British comic-book geeks traveling across ...   \n",
              "1  Turning the zombie film on its head, this film...   \n",
              "2  In the tradition of O' Brother Where Art Thou ...   \n",
              "3           On this planet, it's Cowboys and Aliens.   \n",
              "4  Aliens who look like clowns come from outer sp...   \n",
              "5  Kung-Fu Action / Comedy / Horror / Musical abo...   \n",
              "6  \"Documentary\" about a man who can look and act...   \n",
              "7  The last day of creation. A stranger arrives i...   \n",
              "8  A vain actor, his best friend, and an activist...   \n",
              "9  Watch the fur fly as a new breed of superhero ...   \n",
              "\n",
              "                            title     score  \n",
              "0                            Paul  0.525405  \n",
              "1                    Wasting Away  0.522425  \n",
              "2                      The Finger  0.515916  \n",
              "3                        Oblivion  0.514514  \n",
              "4  Killer Klowns from Outer Space  0.514008  \n",
              "5     Jesus Christ Vampire Hunter  0.513851  \n",
              "6                           Zelig  0.512904  \n",
              "7    The Nine Lives of Tomas Katz  0.512741  \n",
              "8                         Freaked  0.512397  \n",
              "9                   Super Buddies  0.511345  "
            ],
            "text/html": [
              "\n",
              "  <div id=\"df-70d5bbaf-ef38-40ce-a93b-5a2dfc556cdb\" class=\"colab-df-container\">\n",
              "    <div>\n",
              "<style scoped>\n",
              "    .dataframe tbody tr th:only-of-type {\n",
              "        vertical-align: middle;\n",
              "    }\n",
              "\n",
              "    .dataframe tbody tr th {\n",
              "        vertical-align: top;\n",
              "    }\n",
              "\n",
              "    .dataframe thead th {\n",
              "        text-align: right;\n",
              "    }\n",
              "</style>\n",
              "<table border=\"1\" class=\"dataframe\">\n",
              "  <thead>\n",
              "    <tr style=\"text-align: right;\">\n",
              "      <th></th>\n",
              "      <th>plot</th>\n",
              "      <th>title</th>\n",
              "      <th>score</th>\n",
              "    </tr>\n",
              "  </thead>\n",
              "  <tbody>\n",
              "    <tr>\n",
              "      <th>0</th>\n",
              "      <td>Two British comic-book geeks traveling across ...</td>\n",
              "      <td>Paul</td>\n",
              "      <td>0.525405</td>\n",
              "    </tr>\n",
              "    <tr>\n",
              "      <th>1</th>\n",
              "      <td>Turning the zombie film on its head, this film...</td>\n",
              "      <td>Wasting Away</td>\n",
              "      <td>0.522425</td>\n",
              "    </tr>\n",
              "    <tr>\n",
              "      <th>2</th>\n",
              "      <td>In the tradition of O' Brother Where Art Thou ...</td>\n",
              "      <td>The Finger</td>\n",
              "      <td>0.515916</td>\n",
              "    </tr>\n",
              "    <tr>\n",
              "      <th>3</th>\n",
              "      <td>On this planet, it's Cowboys and Aliens.</td>\n",
              "      <td>Oblivion</td>\n",
              "      <td>0.514514</td>\n",
              "    </tr>\n",
              "    <tr>\n",
              "      <th>4</th>\n",
              "      <td>Aliens who look like clowns come from outer sp...</td>\n",
              "      <td>Killer Klowns from Outer Space</td>\n",
              "      <td>0.514008</td>\n",
              "    </tr>\n",
              "    <tr>\n",
              "      <th>5</th>\n",
              "      <td>Kung-Fu Action / Comedy / Horror / Musical abo...</td>\n",
              "      <td>Jesus Christ Vampire Hunter</td>\n",
              "      <td>0.513851</td>\n",
              "    </tr>\n",
              "    <tr>\n",
              "      <th>6</th>\n",
              "      <td>\"Documentary\" about a man who can look and act...</td>\n",
              "      <td>Zelig</td>\n",
              "      <td>0.512904</td>\n",
              "    </tr>\n",
              "    <tr>\n",
              "      <th>7</th>\n",
              "      <td>The last day of creation. A stranger arrives i...</td>\n",
              "      <td>The Nine Lives of Tomas Katz</td>\n",
              "      <td>0.512741</td>\n",
              "    </tr>\n",
              "    <tr>\n",
              "      <th>8</th>\n",
              "      <td>A vain actor, his best friend, and an activist...</td>\n",
              "      <td>Freaked</td>\n",
              "      <td>0.512397</td>\n",
              "    </tr>\n",
              "    <tr>\n",
              "      <th>9</th>\n",
              "      <td>Watch the fur fly as a new breed of superhero ...</td>\n",
              "      <td>Super Buddies</td>\n",
              "      <td>0.511345</td>\n",
              "    </tr>\n",
              "  </tbody>\n",
              "</table>\n",
              "</div>\n",
              "    <div class=\"colab-df-buttons\">\n",
              "\n",
              "  <div class=\"colab-df-container\">\n",
              "    <button class=\"colab-df-convert\" onclick=\"convertToInteractive('df-70d5bbaf-ef38-40ce-a93b-5a2dfc556cdb')\"\n",
              "            title=\"Convert this dataframe to an interactive table.\"\n",
              "            style=\"display:none;\">\n",
              "\n",
              "  <svg xmlns=\"http://www.w3.org/2000/svg\" height=\"24px\" viewBox=\"0 -960 960 960\">\n",
              "    <path d=\"M120-120v-720h720v720H120Zm60-500h600v-160H180v160Zm220 220h160v-160H400v160Zm0 220h160v-160H400v160ZM180-400h160v-160H180v160Zm440 0h160v-160H620v160ZM180-180h160v-160H180v160Zm440 0h160v-160H620v160Z\"/>\n",
              "  </svg>\n",
              "    </button>\n",
              "\n",
              "  <style>\n",
              "    .colab-df-container {\n",
              "      display:flex;\n",
              "      gap: 12px;\n",
              "    }\n",
              "\n",
              "    .colab-df-convert {\n",
              "      background-color: #E8F0FE;\n",
              "      border: none;\n",
              "      border-radius: 50%;\n",
              "      cursor: pointer;\n",
              "      display: none;\n",
              "      fill: #1967D2;\n",
              "      height: 32px;\n",
              "      padding: 0 0 0 0;\n",
              "      width: 32px;\n",
              "    }\n",
              "\n",
              "    .colab-df-convert:hover {\n",
              "      background-color: #E2EBFA;\n",
              "      box-shadow: 0px 1px 2px rgba(60, 64, 67, 0.3), 0px 1px 3px 1px rgba(60, 64, 67, 0.15);\n",
              "      fill: #174EA6;\n",
              "    }\n",
              "\n",
              "    .colab-df-buttons div {\n",
              "      margin-bottom: 4px;\n",
              "    }\n",
              "\n",
              "    [theme=dark] .colab-df-convert {\n",
              "      background-color: #3B4455;\n",
              "      fill: #D2E3FC;\n",
              "    }\n",
              "\n",
              "    [theme=dark] .colab-df-convert:hover {\n",
              "      background-color: #434B5C;\n",
              "      box-shadow: 0px 1px 3px 1px rgba(0, 0, 0, 0.15);\n",
              "      filter: drop-shadow(0px 1px 2px rgba(0, 0, 0, 0.3));\n",
              "      fill: #FFFFFF;\n",
              "    }\n",
              "  </style>\n",
              "\n",
              "    <script>\n",
              "      const buttonEl =\n",
              "        document.querySelector('#df-70d5bbaf-ef38-40ce-a93b-5a2dfc556cdb button.colab-df-convert');\n",
              "      buttonEl.style.display =\n",
              "        google.colab.kernel.accessAllowed ? 'block' : 'none';\n",
              "\n",
              "      async function convertToInteractive(key) {\n",
              "        const element = document.querySelector('#df-70d5bbaf-ef38-40ce-a93b-5a2dfc556cdb');\n",
              "        const dataTable =\n",
              "          await google.colab.kernel.invokeFunction('convertToInteractive',\n",
              "                                                    [key], {});\n",
              "        if (!dataTable) return;\n",
              "\n",
              "        const docLinkHtml = 'Like what you see? Visit the ' +\n",
              "          '<a target=\"_blank\" href=https://colab.research.google.com/notebooks/data_table.ipynb>data table notebook</a>'\n",
              "          + ' to learn more about interactive tables.';\n",
              "        element.innerHTML = '';\n",
              "        dataTable['output_type'] = 'display_data';\n",
              "        await google.colab.output.renderOutput(dataTable, element);\n",
              "        const docLink = document.createElement('div');\n",
              "        docLink.innerHTML = docLinkHtml;\n",
              "        element.appendChild(docLink);\n",
              "      }\n",
              "    </script>\n",
              "  </div>\n",
              "\n",
              "\n",
              "    <div id=\"df-6a9e8742-fde9-4d6c-81de-6f12dffe5915\">\n",
              "      <button class=\"colab-df-quickchart\" onclick=\"quickchart('df-6a9e8742-fde9-4d6c-81de-6f12dffe5915')\"\n",
              "                title=\"Suggest charts\"\n",
              "                style=\"display:none;\">\n",
              "\n",
              "<svg xmlns=\"http://www.w3.org/2000/svg\" height=\"24px\"viewBox=\"0 0 24 24\"\n",
              "     width=\"24px\">\n",
              "    <g>\n",
              "        <path d=\"M19 3H5c-1.1 0-2 .9-2 2v14c0 1.1.9 2 2 2h14c1.1 0 2-.9 2-2V5c0-1.1-.9-2-2-2zM9 17H7v-7h2v7zm4 0h-2V7h2v10zm4 0h-2v-4h2v4z\"/>\n",
              "    </g>\n",
              "</svg>\n",
              "      </button>\n",
              "\n",
              "<style>\n",
              "  .colab-df-quickchart {\n",
              "      --bg-color: #E8F0FE;\n",
              "      --fill-color: #1967D2;\n",
              "      --hover-bg-color: #E2EBFA;\n",
              "      --hover-fill-color: #174EA6;\n",
              "      --disabled-fill-color: #AAA;\n",
              "      --disabled-bg-color: #DDD;\n",
              "  }\n",
              "\n",
              "  [theme=dark] .colab-df-quickchart {\n",
              "      --bg-color: #3B4455;\n",
              "      --fill-color: #D2E3FC;\n",
              "      --hover-bg-color: #434B5C;\n",
              "      --hover-fill-color: #FFFFFF;\n",
              "      --disabled-bg-color: #3B4455;\n",
              "      --disabled-fill-color: #666;\n",
              "  }\n",
              "\n",
              "  .colab-df-quickchart {\n",
              "    background-color: var(--bg-color);\n",
              "    border: none;\n",
              "    border-radius: 50%;\n",
              "    cursor: pointer;\n",
              "    display: none;\n",
              "    fill: var(--fill-color);\n",
              "    height: 32px;\n",
              "    padding: 0;\n",
              "    width: 32px;\n",
              "  }\n",
              "\n",
              "  .colab-df-quickchart:hover {\n",
              "    background-color: var(--hover-bg-color);\n",
              "    box-shadow: 0 1px 2px rgba(60, 64, 67, 0.3), 0 1px 3px 1px rgba(60, 64, 67, 0.15);\n",
              "    fill: var(--button-hover-fill-color);\n",
              "  }\n",
              "\n",
              "  .colab-df-quickchart-complete:disabled,\n",
              "  .colab-df-quickchart-complete:disabled:hover {\n",
              "    background-color: var(--disabled-bg-color);\n",
              "    fill: var(--disabled-fill-color);\n",
              "    box-shadow: none;\n",
              "  }\n",
              "\n",
              "  .colab-df-spinner {\n",
              "    border: 2px solid var(--fill-color);\n",
              "    border-color: transparent;\n",
              "    border-bottom-color: var(--fill-color);\n",
              "    animation:\n",
              "      spin 1s steps(1) infinite;\n",
              "  }\n",
              "\n",
              "  @keyframes spin {\n",
              "    0% {\n",
              "      border-color: transparent;\n",
              "      border-bottom-color: var(--fill-color);\n",
              "      border-left-color: var(--fill-color);\n",
              "    }\n",
              "    20% {\n",
              "      border-color: transparent;\n",
              "      border-left-color: var(--fill-color);\n",
              "      border-top-color: var(--fill-color);\n",
              "    }\n",
              "    30% {\n",
              "      border-color: transparent;\n",
              "      border-left-color: var(--fill-color);\n",
              "      border-top-color: var(--fill-color);\n",
              "      border-right-color: var(--fill-color);\n",
              "    }\n",
              "    40% {\n",
              "      border-color: transparent;\n",
              "      border-right-color: var(--fill-color);\n",
              "      border-top-color: var(--fill-color);\n",
              "    }\n",
              "    60% {\n",
              "      border-color: transparent;\n",
              "      border-right-color: var(--fill-color);\n",
              "    }\n",
              "    80% {\n",
              "      border-color: transparent;\n",
              "      border-right-color: var(--fill-color);\n",
              "      border-bottom-color: var(--fill-color);\n",
              "    }\n",
              "    90% {\n",
              "      border-color: transparent;\n",
              "      border-bottom-color: var(--fill-color);\n",
              "    }\n",
              "  }\n",
              "</style>\n",
              "\n",
              "      <script>\n",
              "        async function quickchart(key) {\n",
              "          const quickchartButtonEl =\n",
              "            document.querySelector('#' + key + ' button');\n",
              "          quickchartButtonEl.disabled = true;  // To prevent multiple clicks.\n",
              "          quickchartButtonEl.classList.add('colab-df-spinner');\n",
              "          try {\n",
              "            const charts = await google.colab.kernel.invokeFunction(\n",
              "                'suggestCharts', [key], {});\n",
              "          } catch (error) {\n",
              "            console.error('Error during call to suggestCharts:', error);\n",
              "          }\n",
              "          quickchartButtonEl.classList.remove('colab-df-spinner');\n",
              "          quickchartButtonEl.classList.add('colab-df-quickchart-complete');\n",
              "        }\n",
              "        (() => {\n",
              "          let quickchartButtonEl =\n",
              "            document.querySelector('#df-6a9e8742-fde9-4d6c-81de-6f12dffe5915 button');\n",
              "          quickchartButtonEl.style.display =\n",
              "            google.colab.kernel.accessAllowed ? 'block' : 'none';\n",
              "        })();\n",
              "      </script>\n",
              "    </div>\n",
              "\n",
              "    </div>\n",
              "  </div>\n"
            ],
            "application/vnd.google.colaboratory.intrinsic+json": {
              "type": "dataframe",
              "summary": "{\n  \"name\": \"pd\",\n  \"rows\": 10,\n  \"fields\": [\n    {\n      \"column\": \"plot\",\n      \"properties\": {\n        \"dtype\": \"string\",\n        \"num_unique_values\": 10,\n        \"samples\": [\n          \"A vain actor, his best friend, and an activist end up at a mutant freak farm run by a weirdo scientist.\",\n          \"Turning the zombie film on its head, this film is an oddball comedy from the perspective of the brain munching monsters themselves.\",\n          \"Kung-Fu Action / Comedy / Horror / Musical about the second coming.\"\n        ],\n        \"semantic_type\": \"\",\n        \"description\": \"\"\n      }\n    },\n    {\n      \"column\": \"title\",\n      \"properties\": {\n        \"dtype\": \"string\",\n        \"num_unique_values\": 10,\n        \"samples\": [\n          \"Freaked\",\n          \"Wasting Away\",\n          \"Jesus Christ Vampire Hunter\"\n        ],\n        \"semantic_type\": \"\",\n        \"description\": \"\"\n      }\n    },\n    {\n      \"column\": \"score\",\n      \"properties\": {\n        \"dtype\": \"number\",\n        \"std\": 0.004635262876392383,\n        \"min\": 0.5113451480865479,\n        \"max\": 0.525404691696167,\n        \"num_unique_values\": 10,\n        \"samples\": [\n          0.5123966336250305,\n          0.52242511510849,\n          0.5138512849807739\n        ],\n        \"semantic_type\": \"\",\n        \"description\": \"\"\n      }\n    }\n  ]\n}"
            }
          },
          "metadata": {},
          "execution_count": 50
        }
      ]
    },
    {
      "cell_type": "code",
      "source": [
        "path = \"plot\"\n",
        "embedding_model_1 = \"voyage-3-large\"\n",
        "search_index_name_1 = \"demo_test_large\"\n",
        "\n",
        "index = create_autoembed_index(path, embedding_model_1, search_index_name_1)\n"
      ],
      "metadata": {
        "colab": {
          "base_uri": "https://localhost:8080/"
        },
        "id": "Ur78YEJ73DWw",
        "outputId": "3ba6f86b-31b8-42e0-92f9-301135b8c040"
      },
      "execution_count": 33,
      "outputs": [
        {
          "output_type": "stream",
          "name": "stdout",
          "text": [
            "New search index named demo_test_large is building.\n",
            "Polling to check if the index is ready. This may take up a short while depending on the size of your collection and the embedding model chosen.\n",
            "demo_test_large is ready for querying. Took a total of 75.93069982528687 seconds\n"
          ]
        }
      ]
    },
    {
      "cell_type": "code",
      "source": [
        "query = 'funny movies with out of world characters'\n",
        "\n",
        "res1 = list(get_results(search_index_name_1, path, query))\n",
        "# print results\n",
        "pd.DataFrame(res1).head(10)"
      ],
      "metadata": {
        "colab": {
          "base_uri": "https://localhost:8080/",
          "height": 363
        },
        "id": "MSxLDEra5Bz5",
        "outputId": "9cb22deb-4474-4be9-9cce-1e80f42ec4be"
      },
      "execution_count": 51,
      "outputs": [
        {
          "output_type": "execute_result",
          "data": {
            "text/plain": [
              "                                                plot  \\\n",
              "0           On this planet, it's Cowboys and Aliens.   \n",
              "1  The bungling inspector Cruchot (Funès) finds h...   \n",
              "2  Aliens who look like clowns come from outer sp...   \n",
              "3  A race of small, furry aliens make lunch out o...   \n",
              "4  A comedy. The story follows a young scientist ...   \n",
              "5  Two British comic-book geeks traveling across ...   \n",
              "6  In the tradition of O' Brother Where Art Thou ...   \n",
              "7  In this Star Wars take-off, the peaceful plane...   \n",
              "8  In this Star Wars take-off, the peaceful plane...   \n",
              "9  A spaceship with three furry aliens lands in a...   \n",
              "\n",
              "                            title     score  \n",
              "0                        Oblivion  0.536753  \n",
              "1             The Troops & Aliens  0.529704  \n",
              "2  Killer Klowns from Outer Space  0.527151  \n",
              "3                        Critters  0.519599  \n",
              "4                       King Size  0.519276  \n",
              "5                            Paul  0.518966  \n",
              "6                      The Finger  0.518942  \n",
              "7              Message from Space  0.517050  \n",
              "8              Message from Space  0.517050  \n",
              "9            Earth Girls Are Easy  0.516886  "
            ],
            "text/html": [
              "\n",
              "  <div id=\"df-a15ac49d-4d59-4d57-901c-777a03229ffb\" class=\"colab-df-container\">\n",
              "    <div>\n",
              "<style scoped>\n",
              "    .dataframe tbody tr th:only-of-type {\n",
              "        vertical-align: middle;\n",
              "    }\n",
              "\n",
              "    .dataframe tbody tr th {\n",
              "        vertical-align: top;\n",
              "    }\n",
              "\n",
              "    .dataframe thead th {\n",
              "        text-align: right;\n",
              "    }\n",
              "</style>\n",
              "<table border=\"1\" class=\"dataframe\">\n",
              "  <thead>\n",
              "    <tr style=\"text-align: right;\">\n",
              "      <th></th>\n",
              "      <th>plot</th>\n",
              "      <th>title</th>\n",
              "      <th>score</th>\n",
              "    </tr>\n",
              "  </thead>\n",
              "  <tbody>\n",
              "    <tr>\n",
              "      <th>0</th>\n",
              "      <td>On this planet, it's Cowboys and Aliens.</td>\n",
              "      <td>Oblivion</td>\n",
              "      <td>0.536753</td>\n",
              "    </tr>\n",
              "    <tr>\n",
              "      <th>1</th>\n",
              "      <td>The bungling inspector Cruchot (Funès) finds h...</td>\n",
              "      <td>The Troops &amp; Aliens</td>\n",
              "      <td>0.529704</td>\n",
              "    </tr>\n",
              "    <tr>\n",
              "      <th>2</th>\n",
              "      <td>Aliens who look like clowns come from outer sp...</td>\n",
              "      <td>Killer Klowns from Outer Space</td>\n",
              "      <td>0.527151</td>\n",
              "    </tr>\n",
              "    <tr>\n",
              "      <th>3</th>\n",
              "      <td>A race of small, furry aliens make lunch out o...</td>\n",
              "      <td>Critters</td>\n",
              "      <td>0.519599</td>\n",
              "    </tr>\n",
              "    <tr>\n",
              "      <th>4</th>\n",
              "      <td>A comedy. The story follows a young scientist ...</td>\n",
              "      <td>King Size</td>\n",
              "      <td>0.519276</td>\n",
              "    </tr>\n",
              "    <tr>\n",
              "      <th>5</th>\n",
              "      <td>Two British comic-book geeks traveling across ...</td>\n",
              "      <td>Paul</td>\n",
              "      <td>0.518966</td>\n",
              "    </tr>\n",
              "    <tr>\n",
              "      <th>6</th>\n",
              "      <td>In the tradition of O' Brother Where Art Thou ...</td>\n",
              "      <td>The Finger</td>\n",
              "      <td>0.518942</td>\n",
              "    </tr>\n",
              "    <tr>\n",
              "      <th>7</th>\n",
              "      <td>In this Star Wars take-off, the peaceful plane...</td>\n",
              "      <td>Message from Space</td>\n",
              "      <td>0.517050</td>\n",
              "    </tr>\n",
              "    <tr>\n",
              "      <th>8</th>\n",
              "      <td>In this Star Wars take-off, the peaceful plane...</td>\n",
              "      <td>Message from Space</td>\n",
              "      <td>0.517050</td>\n",
              "    </tr>\n",
              "    <tr>\n",
              "      <th>9</th>\n",
              "      <td>A spaceship with three furry aliens lands in a...</td>\n",
              "      <td>Earth Girls Are Easy</td>\n",
              "      <td>0.516886</td>\n",
              "    </tr>\n",
              "  </tbody>\n",
              "</table>\n",
              "</div>\n",
              "    <div class=\"colab-df-buttons\">\n",
              "\n",
              "  <div class=\"colab-df-container\">\n",
              "    <button class=\"colab-df-convert\" onclick=\"convertToInteractive('df-a15ac49d-4d59-4d57-901c-777a03229ffb')\"\n",
              "            title=\"Convert this dataframe to an interactive table.\"\n",
              "            style=\"display:none;\">\n",
              "\n",
              "  <svg xmlns=\"http://www.w3.org/2000/svg\" height=\"24px\" viewBox=\"0 -960 960 960\">\n",
              "    <path d=\"M120-120v-720h720v720H120Zm60-500h600v-160H180v160Zm220 220h160v-160H400v160Zm0 220h160v-160H400v160ZM180-400h160v-160H180v160Zm440 0h160v-160H620v160ZM180-180h160v-160H180v160Zm440 0h160v-160H620v160Z\"/>\n",
              "  </svg>\n",
              "    </button>\n",
              "\n",
              "  <style>\n",
              "    .colab-df-container {\n",
              "      display:flex;\n",
              "      gap: 12px;\n",
              "    }\n",
              "\n",
              "    .colab-df-convert {\n",
              "      background-color: #E8F0FE;\n",
              "      border: none;\n",
              "      border-radius: 50%;\n",
              "      cursor: pointer;\n",
              "      display: none;\n",
              "      fill: #1967D2;\n",
              "      height: 32px;\n",
              "      padding: 0 0 0 0;\n",
              "      width: 32px;\n",
              "    }\n",
              "\n",
              "    .colab-df-convert:hover {\n",
              "      background-color: #E2EBFA;\n",
              "      box-shadow: 0px 1px 2px rgba(60, 64, 67, 0.3), 0px 1px 3px 1px rgba(60, 64, 67, 0.15);\n",
              "      fill: #174EA6;\n",
              "    }\n",
              "\n",
              "    .colab-df-buttons div {\n",
              "      margin-bottom: 4px;\n",
              "    }\n",
              "\n",
              "    [theme=dark] .colab-df-convert {\n",
              "      background-color: #3B4455;\n",
              "      fill: #D2E3FC;\n",
              "    }\n",
              "\n",
              "    [theme=dark] .colab-df-convert:hover {\n",
              "      background-color: #434B5C;\n",
              "      box-shadow: 0px 1px 3px 1px rgba(0, 0, 0, 0.15);\n",
              "      filter: drop-shadow(0px 1px 2px rgba(0, 0, 0, 0.3));\n",
              "      fill: #FFFFFF;\n",
              "    }\n",
              "  </style>\n",
              "\n",
              "    <script>\n",
              "      const buttonEl =\n",
              "        document.querySelector('#df-a15ac49d-4d59-4d57-901c-777a03229ffb button.colab-df-convert');\n",
              "      buttonEl.style.display =\n",
              "        google.colab.kernel.accessAllowed ? 'block' : 'none';\n",
              "\n",
              "      async function convertToInteractive(key) {\n",
              "        const element = document.querySelector('#df-a15ac49d-4d59-4d57-901c-777a03229ffb');\n",
              "        const dataTable =\n",
              "          await google.colab.kernel.invokeFunction('convertToInteractive',\n",
              "                                                    [key], {});\n",
              "        if (!dataTable) return;\n",
              "\n",
              "        const docLinkHtml = 'Like what you see? Visit the ' +\n",
              "          '<a target=\"_blank\" href=https://colab.research.google.com/notebooks/data_table.ipynb>data table notebook</a>'\n",
              "          + ' to learn more about interactive tables.';\n",
              "        element.innerHTML = '';\n",
              "        dataTable['output_type'] = 'display_data';\n",
              "        await google.colab.output.renderOutput(dataTable, element);\n",
              "        const docLink = document.createElement('div');\n",
              "        docLink.innerHTML = docLinkHtml;\n",
              "        element.appendChild(docLink);\n",
              "      }\n",
              "    </script>\n",
              "  </div>\n",
              "\n",
              "\n",
              "    <div id=\"df-32e71816-e05c-400f-8824-78189729b6e5\">\n",
              "      <button class=\"colab-df-quickchart\" onclick=\"quickchart('df-32e71816-e05c-400f-8824-78189729b6e5')\"\n",
              "                title=\"Suggest charts\"\n",
              "                style=\"display:none;\">\n",
              "\n",
              "<svg xmlns=\"http://www.w3.org/2000/svg\" height=\"24px\"viewBox=\"0 0 24 24\"\n",
              "     width=\"24px\">\n",
              "    <g>\n",
              "        <path d=\"M19 3H5c-1.1 0-2 .9-2 2v14c0 1.1.9 2 2 2h14c1.1 0 2-.9 2-2V5c0-1.1-.9-2-2-2zM9 17H7v-7h2v7zm4 0h-2V7h2v10zm4 0h-2v-4h2v4z\"/>\n",
              "    </g>\n",
              "</svg>\n",
              "      </button>\n",
              "\n",
              "<style>\n",
              "  .colab-df-quickchart {\n",
              "      --bg-color: #E8F0FE;\n",
              "      --fill-color: #1967D2;\n",
              "      --hover-bg-color: #E2EBFA;\n",
              "      --hover-fill-color: #174EA6;\n",
              "      --disabled-fill-color: #AAA;\n",
              "      --disabled-bg-color: #DDD;\n",
              "  }\n",
              "\n",
              "  [theme=dark] .colab-df-quickchart {\n",
              "      --bg-color: #3B4455;\n",
              "      --fill-color: #D2E3FC;\n",
              "      --hover-bg-color: #434B5C;\n",
              "      --hover-fill-color: #FFFFFF;\n",
              "      --disabled-bg-color: #3B4455;\n",
              "      --disabled-fill-color: #666;\n",
              "  }\n",
              "\n",
              "  .colab-df-quickchart {\n",
              "    background-color: var(--bg-color);\n",
              "    border: none;\n",
              "    border-radius: 50%;\n",
              "    cursor: pointer;\n",
              "    display: none;\n",
              "    fill: var(--fill-color);\n",
              "    height: 32px;\n",
              "    padding: 0;\n",
              "    width: 32px;\n",
              "  }\n",
              "\n",
              "  .colab-df-quickchart:hover {\n",
              "    background-color: var(--hover-bg-color);\n",
              "    box-shadow: 0 1px 2px rgba(60, 64, 67, 0.3), 0 1px 3px 1px rgba(60, 64, 67, 0.15);\n",
              "    fill: var(--button-hover-fill-color);\n",
              "  }\n",
              "\n",
              "  .colab-df-quickchart-complete:disabled,\n",
              "  .colab-df-quickchart-complete:disabled:hover {\n",
              "    background-color: var(--disabled-bg-color);\n",
              "    fill: var(--disabled-fill-color);\n",
              "    box-shadow: none;\n",
              "  }\n",
              "\n",
              "  .colab-df-spinner {\n",
              "    border: 2px solid var(--fill-color);\n",
              "    border-color: transparent;\n",
              "    border-bottom-color: var(--fill-color);\n",
              "    animation:\n",
              "      spin 1s steps(1) infinite;\n",
              "  }\n",
              "\n",
              "  @keyframes spin {\n",
              "    0% {\n",
              "      border-color: transparent;\n",
              "      border-bottom-color: var(--fill-color);\n",
              "      border-left-color: var(--fill-color);\n",
              "    }\n",
              "    20% {\n",
              "      border-color: transparent;\n",
              "      border-left-color: var(--fill-color);\n",
              "      border-top-color: var(--fill-color);\n",
              "    }\n",
              "    30% {\n",
              "      border-color: transparent;\n",
              "      border-left-color: var(--fill-color);\n",
              "      border-top-color: var(--fill-color);\n",
              "      border-right-color: var(--fill-color);\n",
              "    }\n",
              "    40% {\n",
              "      border-color: transparent;\n",
              "      border-right-color: var(--fill-color);\n",
              "      border-top-color: var(--fill-color);\n",
              "    }\n",
              "    60% {\n",
              "      border-color: transparent;\n",
              "      border-right-color: var(--fill-color);\n",
              "    }\n",
              "    80% {\n",
              "      border-color: transparent;\n",
              "      border-right-color: var(--fill-color);\n",
              "      border-bottom-color: var(--fill-color);\n",
              "    }\n",
              "    90% {\n",
              "      border-color: transparent;\n",
              "      border-bottom-color: var(--fill-color);\n",
              "    }\n",
              "  }\n",
              "</style>\n",
              "\n",
              "      <script>\n",
              "        async function quickchart(key) {\n",
              "          const quickchartButtonEl =\n",
              "            document.querySelector('#' + key + ' button');\n",
              "          quickchartButtonEl.disabled = true;  // To prevent multiple clicks.\n",
              "          quickchartButtonEl.classList.add('colab-df-spinner');\n",
              "          try {\n",
              "            const charts = await google.colab.kernel.invokeFunction(\n",
              "                'suggestCharts', [key], {});\n",
              "          } catch (error) {\n",
              "            console.error('Error during call to suggestCharts:', error);\n",
              "          }\n",
              "          quickchartButtonEl.classList.remove('colab-df-spinner');\n",
              "          quickchartButtonEl.classList.add('colab-df-quickchart-complete');\n",
              "        }\n",
              "        (() => {\n",
              "          let quickchartButtonEl =\n",
              "            document.querySelector('#df-32e71816-e05c-400f-8824-78189729b6e5 button');\n",
              "          quickchartButtonEl.style.display =\n",
              "            google.colab.kernel.accessAllowed ? 'block' : 'none';\n",
              "        })();\n",
              "      </script>\n",
              "    </div>\n",
              "\n",
              "    </div>\n",
              "  </div>\n"
            ],
            "application/vnd.google.colaboratory.intrinsic+json": {
              "type": "dataframe",
              "summary": "{\n  \"name\": \"pd\",\n  \"rows\": 10,\n  \"fields\": [\n    {\n      \"column\": \"plot\",\n      \"properties\": {\n        \"dtype\": \"string\",\n        \"num_unique_values\": 9,\n        \"samples\": [\n          \"In this Star Wars take-off, the peaceful planet of Jillucia has been nearly wiped out by the Gavanas, whose leader takes orders from his mother (played a comic actor in drag) rather than ...\",\n          \"The bungling inspector Cruchot (Fun\\u00e8s) finds himself trying to save the residents of St. Tropez from some oil-drinking humanoid aliens. The only way to tell the aliens from the real people,...\",\n          \"Two British comic-book geeks traveling across the U.S. encounter an alien outside Area 51.\"\n        ],\n        \"semantic_type\": \"\",\n        \"description\": \"\"\n      }\n    },\n    {\n      \"column\": \"title\",\n      \"properties\": {\n        \"dtype\": \"string\",\n        \"num_unique_values\": 9,\n        \"samples\": [\n          \"Message from Space\",\n          \"The Troops & Aliens\",\n          \"Paul\"\n        ],\n        \"semantic_type\": \"\",\n        \"description\": \"\"\n      }\n    },\n    {\n      \"column\": \"score\",\n      \"properties\": {\n        \"dtype\": \"number\",\n        \"std\": 0.00675169216285777,\n        \"min\": 0.5168856382369995,\n        \"max\": 0.5367534160614014,\n        \"num_unique_values\": 9,\n        \"samples\": [\n          0.5170496702194214,\n          0.5297038555145264,\n          0.5189664363861084\n        ],\n        \"semantic_type\": \"\",\n        \"description\": \"\"\n      }\n    }\n  ]\n}"
            }
          },
          "metadata": {},
          "execution_count": 51
        }
      ]
    },
    {
      "cell_type": "code",
      "source": [],
      "metadata": {
        "colab": {
          "base_uri": "https://localhost:8080/",
          "height": 144
        },
        "id": "g0vbhfy8YtKq",
        "outputId": "5b20f110-fc3a-44d2-f1b8-1ff173b79c3c"
      },
      "execution_count": 53,
      "outputs": [
        {
          "output_type": "error",
          "ename": "TypeError",
          "evalue": "unhashable type: 'dict'",
          "traceback": [
            "\u001b[0;31m---------------------------------------------------------------------------\u001b[0m",
            "\u001b[0;31mTypeError\u001b[0m                                 Traceback (most recent call last)",
            "\u001b[0;32m/tmp/ipython-input-53-2928515267.py\u001b[0m in \u001b[0;36m<cell line: 0>\u001b[0;34m()\u001b[0m\n\u001b[0;32m----> 1\u001b[0;31m \u001b[0ms1\u001b[0m \u001b[0;34m=\u001b[0m \u001b[0mset\u001b[0m\u001b[0;34m(\u001b[0m\u001b[0mres0\u001b[0m\u001b[0;34m)\u001b[0m\u001b[0;34m\u001b[0m\u001b[0;34m\u001b[0m\u001b[0m\n\u001b[0m",
            "\u001b[0;31mTypeError\u001b[0m: unhashable type: 'dict'"
          ]
        }
      ]
    },
    {
      "cell_type": "markdown",
      "source": [
        "# Vector Search on Views"
      ],
      "metadata": {
        "id": "EeTyWKq3Vrln"
      }
    },
    {
      "cell_type": "markdown",
      "source": [
        "```\n",
        "db.createView('embed_source',\n",
        "              'movies',  \n",
        "              [{$addFields: {\n",
        "                    embedding_source: {\n",
        "                        $concat: [\n",
        "                            \"Movie Title: \", \"$title\",\n",
        "                            \"\\n\",\n",
        "                            \"Plot: \", \"$fullplot\"]\n",
        "                        }\n",
        "                    }\n",
        "                }\n",
        "            ]\n",
        "            )\n",
        "\n",
        "\n",
        "```"
      ],
      "metadata": {
        "id": "ktz8PGn9V3-V"
      }
    },
    {
      "cell_type": "code",
      "source": [
        "database.list_collection_names()\n"
      ],
      "metadata": {
        "colab": {
          "base_uri": "https://localhost:8080/"
        },
        "id": "Y8BwsHwHF2Wg",
        "outputId": "a3fcdfd1-f36b-452c-ee9f-38ecc1110af6"
      },
      "execution_count": 35,
      "outputs": [
        {
          "output_type": "execute_result",
          "data": {
            "text/plain": [
              "['theaters',\n",
              " 'system.views',\n",
              " 'comments',\n",
              " 'sessions',\n",
              " 'users',\n",
              " 'embedded_movies',\n",
              " 'movies',\n",
              " 'embed_source']"
            ]
          },
          "metadata": {},
          "execution_count": 35
        }
      ]
    },
    {
      "cell_type": "code",
      "source": [
        "database[\"embed_source\"].find_one()"
      ],
      "metadata": {
        "colab": {
          "base_uri": "https://localhost:8080/"
        },
        "id": "74w7AIIpXH8W",
        "outputId": "273d3033-1379-43f2-8cbb-d8efdd5d6b4d"
      },
      "execution_count": 44,
      "outputs": [
        {
          "output_type": "execute_result",
          "data": {
            "text/plain": [
              "{'_id': ObjectId('573a1390f29313caabcd50e5'),\n",
              " 'plot': 'The cartoonist, Winsor McCay, brings the Dinosaurus back to life in the figure of his latest creation, Gertie the Dinosaur.',\n",
              " 'genres': ['Animation', 'Short', 'Comedy'],\n",
              " 'runtime': 12,\n",
              " 'cast': ['Winsor McCay', 'George McManus', 'Roy L. McCardell'],\n",
              " 'num_mflix_comments': 0,\n",
              " 'poster': 'https://m.media-amazon.com/images/M/MV5BMTQxNzI4ODQ3NF5BMl5BanBnXkFtZTgwNzY5NzMwMjE@._V1_SY1000_SX677_AL_.jpg',\n",
              " 'title': 'Gertie the Dinosaur',\n",
              " 'fullplot': 'Winsor Z. McCay bets another cartoonist that he can animate a dinosaur. So he draws a big friendly herbivore called Gertie. Then he get into his own picture. Gertie walks through the picture, eats a tree, meets her creator, and takes him carefully on her back for a ride.',\n",
              " 'languages': ['English'],\n",
              " 'released': datetime.datetime(1914, 9, 15, 0, 0),\n",
              " 'directors': ['Winsor McCay'],\n",
              " 'writers': ['Winsor McCay'],\n",
              " 'awards': {'wins': 1, 'nominations': 0, 'text': '1 win.'},\n",
              " 'lastupdated': '2015-08-18 01:03:15.313000000',\n",
              " 'year': 1914,\n",
              " 'imdb': {'rating': 7.3, 'votes': 1837, 'id': 4008},\n",
              " 'countries': ['USA'],\n",
              " 'type': 'movie',\n",
              " 'tomatoes': {'viewer': {'rating': 3.7, 'numReviews': 29},\n",
              "  'lastUpdated': datetime.datetime(2015, 8, 10, 19, 20, 3)},\n",
              " 'embedding_source': 'Movie Title: Gertie the Dinosaur\\nPlot: Winsor Z. McCay bets another cartoonist that he can animate a dinosaur. So he draws a big friendly herbivore called Gertie. Then he get into his own picture. Gertie walks through the picture, eats a tree, meets her creator, and takes him carefully on her back for a ride.'}"
            ]
          },
          "metadata": {},
          "execution_count": 44
        }
      ]
    },
    {
      "cell_type": "code",
      "source": [],
      "metadata": {
        "id": "EBo8e1ZdXtAZ"
      },
      "execution_count": null,
      "outputs": []
    }
  ],
  "metadata": {
    "kernelspec": {
      "display_name": "Python 3",
      "language": "python",
      "name": "python3"
    },
    "language_info": {
      "codemirror_mode": {
        "name": "ipython",
        "version": 3
      },
      "file_extension": ".py",
      "mimetype": "text/x-python",
      "name": "python",
      "nbconvert_exporter": "python",
      "pygments_lexer": "ipython3",
      "version": "3.9.12"
    },
    "colab": {
      "provenance": [],
      "include_colab_link": true
    }
  },
  "nbformat": 4,
  "nbformat_minor": 0
}