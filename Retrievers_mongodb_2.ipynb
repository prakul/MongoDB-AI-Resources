{
  "nbformat": 4,
  "nbformat_minor": 0,
  "metadata": {
    "colab": {
      "provenance": [],
      "authorship_tag": "ABX9TyMLUoYril5FujzBGHeYeb0u",
      "include_colab_link": true
    },
    "kernelspec": {
      "name": "python3",
      "display_name": "Python 3"
    },
    "language_info": {
      "name": "python"
    }
  },
  "cells": [
    {
      "cell_type": "markdown",
      "metadata": {
        "id": "view-in-github",
        "colab_type": "text"
      },
      "source": [
        "<a href=\"https://colab.research.google.com/github/prakul/MongoDB-AI-Resources/blob/main/Retrievers_mongodb_2.ipynb\" target=\"_parent\"><img src=\"https://colab.research.google.com/assets/colab-badge.svg\" alt=\"Open In Colab\"/></a>"
      ]
    },
    {
      "cell_type": "markdown",
      "source": [
        "#Environment"
      ],
      "metadata": {
        "id": "hfZytWzMjd8E"
      }
    },
    {
      "cell_type": "code",
      "execution_count": null,
      "metadata": {
        "id": "jXRw1-IMic_3",
        "colab": {
          "base_uri": "https://localhost:8080/"
        },
        "outputId": "02fab466-498c-4ef4-8d90-cd98433e0ab5"
      },
      "outputs": [
        {
          "output_type": "stream",
          "name": "stdout",
          "text": [
            "\u001b[?25l   \u001b[90m━━━━━━━━━━━━━━━━━━━━━━━━━━━━━━━━━━━━━━━━\u001b[0m \u001b[32m0.0/50.4 kB\u001b[0m \u001b[31m?\u001b[0m eta \u001b[36m-:--:--\u001b[0m\r\u001b[2K   \u001b[90m━━━━━━━━━━━━━━━━━━━━━━━━━━━━━━━━━━━━━━━━\u001b[0m \u001b[32m50.4/50.4 kB\u001b[0m \u001b[31m3.7 MB/s\u001b[0m eta \u001b[36m0:00:00\u001b[0m\n",
            "\u001b[?25h\u001b[?25l   \u001b[90m━━━━━━━━━━━━━━━━━━━━━━━━━━━━━━━━━━━━━━━━\u001b[0m \u001b[32m0.0/1.4 MB\u001b[0m \u001b[31m?\u001b[0m eta \u001b[36m-:--:--\u001b[0m\r\u001b[2K   \u001b[90m━━━━━━━━━━━━━━━━━━━━━━━━━━━━━━━━━━━━━━━━\u001b[0m \u001b[32m1.4/1.4 MB\u001b[0m \u001b[31m51.5 MB/s\u001b[0m eta \u001b[36m0:00:00\u001b[0m\n",
            "\u001b[?25h\u001b[?25l   \u001b[90m━━━━━━━━━━━━━━━━━━━━━━━━━━━━━━━━━━━━━━━━\u001b[0m \u001b[32m0.0/313.6 kB\u001b[0m \u001b[31m?\u001b[0m eta \u001b[36m-:--:--\u001b[0m\r\u001b[2K   \u001b[90m━━━━━━━━━━━━━━━━━━━━━━━━━━━━━━━━━━━━━━━━\u001b[0m \u001b[32m313.6/313.6 kB\u001b[0m \u001b[31m20.0 MB/s\u001b[0m eta \u001b[36m0:00:00\u001b[0m\n",
            "\u001b[?25h\u001b[?25l   \u001b[90m━━━━━━━━━━━━━━━━━━━━━━━━━━━━━━━━━━━━━━━━\u001b[0m \u001b[32m0.0/408.7 kB\u001b[0m \u001b[31m?\u001b[0m eta \u001b[36m-:--:--\u001b[0m\r\u001b[2K   \u001b[90m━━━━━━━━━━━━━━━━━━━━━━━━━━━━━━━━━━━━━━━━\u001b[0m \u001b[32m408.7/408.7 kB\u001b[0m \u001b[31m23.6 MB/s\u001b[0m eta \u001b[36m0:00:00\u001b[0m\n",
            "\u001b[?25h\u001b[?25l   \u001b[90m━━━━━━━━━━━━━━━━━━━━━━━━━━━━━━━━━━━━━━━━\u001b[0m \u001b[32m0.0/389.6 kB\u001b[0m \u001b[31m?\u001b[0m eta \u001b[36m-:--:--\u001b[0m\r\u001b[2K   \u001b[90m━━━━━━━━━━━━━━━━━━━━━━━━━━━━━━━━━━━━━━━━\u001b[0m \u001b[32m389.6/389.6 kB\u001b[0m \u001b[31m22.6 MB/s\u001b[0m eta \u001b[36m0:00:00\u001b[0m\n",
            "\u001b[?25h\u001b[?25l   \u001b[90m━━━━━━━━━━━━━━━━━━━━━━━━━━━━━━━━━━━━━━━━\u001b[0m \u001b[32m0.0/1.2 MB\u001b[0m \u001b[31m?\u001b[0m eta \u001b[36m-:--:--\u001b[0m\r\u001b[2K   \u001b[90m━━━━━━━━━━━━━━━━━━━━━━━━━━━━━━━━━━━━━━━━\u001b[0m \u001b[32m1.2/1.2 MB\u001b[0m \u001b[31m49.8 MB/s\u001b[0m eta \u001b[36m0:00:00\u001b[0m\n",
            "\u001b[?25h"
          ]
        }
      ],
      "source": [
        "!pip install -qU langchain-mongodb langchain-openai python-dotenv pymongo"
      ]
    },
    {
      "cell_type": "code",
      "source": [
        "import os\n",
        "from dotenv import load_dotenv\n",
        "\n",
        "load_dotenv(override=True)"
      ],
      "metadata": {
        "colab": {
          "base_uri": "https://localhost:8080/"
        },
        "id": "jM9HlsJflQhg",
        "outputId": "df9434c3-eb18-497a-a9ae-f268abb5dbfc"
      },
      "execution_count": null,
      "outputs": [
        {
          "output_type": "execute_result",
          "data": {
            "text/plain": [
              "True"
            ]
          },
          "metadata": {},
          "execution_count": 2
        }
      ]
    },
    {
      "cell_type": "code",
      "source": [
        "OPENAI_API_KEY = os.environ[\"OPENAI_API_KEY\"]\n",
        "MONGO_URI = os.environ[\"MONGO_URI\"]"
      ],
      "metadata": {
        "id": "QixJnLxAridj"
      },
      "execution_count": null,
      "outputs": []
    },
    {
      "cell_type": "markdown",
      "source": [
        "# Setup\n",
        "\n"
      ],
      "metadata": {
        "id": "BZ1YZBfslj_B"
      }
    },
    {
      "cell_type": "code",
      "source": [
        "from langchain_openai import OpenAIEmbeddings, ChatOpenAI\n",
        "\n",
        "from langchain_mongodb import MongoDBAtlasVectorSearch\n",
        "from pymongo import MongoClient\n",
        "\n",
        "# use MongoDB movies database\n",
        "\n",
        "DB_NAME = \"sample_mflix\"\n",
        "COLLECTION_NAME = \"embedded_movies\"\n",
        "ATLAS_VECTOR_SEARCH_INDEX_NAME = \"test\"\n",
        "#TIMEOUT = 60.0\n",
        "\n",
        "client = MongoClient(MONGO_URI)\n",
        "db = client[DB_NAME]\n",
        "MONGODB_COLLECTION = db[COLLECTION_NAME]"
      ],
      "metadata": {
        "id": "GPUHJKqKljFJ"
      },
      "execution_count": null,
      "outputs": []
    },
    {
      "cell_type": "code",
      "source": [
        "for p in MONGODB_COLLECTION.list_search_indexes():\n",
        "    print(p)"
      ],
      "metadata": {
        "id": "LEJodrC2wW6p"
      },
      "execution_count": null,
      "outputs": []
    },
    {
      "cell_type": "code",
      "source": [
        "embedding_model= OpenAIEmbeddings(disallowed_special=())\n",
        "DIMENSIONS = 1536\n",
        "\n",
        "llm = ChatOpenAI(model_name=\"gpt-3.5-turbo\", temperature=0)"
      ],
      "metadata": {
        "id": "Tsh2cWZwqeHx"
      },
      "execution_count": null,
      "outputs": []
    },
    {
      "cell_type": "code",
      "source": [
        "vectorstore = MongoDBAtlasVectorSearch(\n",
        "    collection=MONGODB_COLLECTION,\n",
        "    embedding= embedding_model,\n",
        "    index_name=ATLAS_VECTOR_SEARCH_INDEX_NAME,\n",
        "    text_key=\"plot\",\n",
        "    embedding_key=\"plot_embedding\")\n"
      ],
      "metadata": {
        "id": "VH-dfLBmta6g"
      },
      "execution_count": null,
      "outputs": []
    },
    {
      "cell_type": "code",
      "source": [
        "vectorstore.create_vector_search_index(DIMENSIONS)\n"
      ],
      "metadata": {
        "id": "-7FmwWHiyGxO"
      },
      "execution_count": null,
      "outputs": []
    },
    {
      "cell_type": "code",
      "source": [
        "for p in MONGODB_COLLECTION.list_search_indexes():\n",
        "    print(p)"
      ],
      "metadata": {
        "colab": {
          "base_uri": "https://localhost:8080/"
        },
        "id": "bktnh2LXyIwK",
        "outputId": "3ac59d99-8ea0-46c2-f3fc-8d0b1e50829f"
      },
      "execution_count": null,
      "outputs": [
        {
          "output_type": "stream",
          "name": "stdout",
          "text": [
            "{'id': '672ea9979b770656c39b2719', 'name': 'test', 'type': 'vectorSearch', 'status': 'READY', 'queryable': True, 'latestDefinitionVersion': {'version': 0, 'createdAt': datetime.datetime(2024, 11, 9, 0, 15, 20, 45000)}, 'latestDefinition': {'fields': [{'numDimensions': 1536, 'path': 'plot_embedding', 'similarity': 'cosine', 'type': 'vector'}]}, 'statusDetail': [{'hostname': 'atlas-3304g1-shard-00-00', 'status': 'READY', 'queryable': True, 'mainIndex': {'status': 'READY', 'queryable': True, 'definitionVersion': {'version': 0, 'createdAt': datetime.datetime(2024, 11, 9, 0, 15, 20)}, 'definition': {'fields': [{'type': 'vector', 'path': 'plot_embedding', 'numDimensions': 1536, 'similarity': 'cosine'}]}}}, {'hostname': 'atlas-3304g1-shard-00-02', 'status': 'READY', 'queryable': True, 'mainIndex': {'status': 'READY', 'queryable': True, 'definitionVersion': {'version': 0, 'createdAt': datetime.datetime(2024, 11, 9, 0, 15, 20)}, 'definition': {'fields': [{'type': 'vector', 'path': 'plot_embedding', 'numDimensions': 1536, 'similarity': 'cosine'}]}}}, {'hostname': 'atlas-3304g1-shard-00-01', 'status': 'READY', 'queryable': True, 'mainIndex': {'status': 'READY', 'queryable': True, 'definitionVersion': {'version': 0, 'createdAt': datetime.datetime(2024, 11, 9, 0, 15, 20)}, 'definition': {'fields': [{'type': 'vector', 'path': 'plot_embedding', 'numDimensions': 1536, 'similarity': 'cosine'}]}}}]}\n"
          ]
        }
      ]
    },
    {
      "cell_type": "markdown",
      "source": [
        "# Vector Retriever"
      ],
      "metadata": {
        "id": "XHGl8S9JGm_a"
      }
    },
    {
      "cell_type": "markdown",
      "source": [
        "## Simple query"
      ],
      "metadata": {
        "id": "bsUZ6g4Z__FV"
      }
    },
    {
      "cell_type": "code",
      "source": [
        "query = \"Comedy movies with imaginary characters\""
      ],
      "metadata": {
        "id": "82ITJmWBAAxe"
      },
      "execution_count": null,
      "outputs": []
    },
    {
      "cell_type": "code",
      "source": [
        "docs = vectorstore.similarity_search(query)\n",
        "for doc in docs:\n",
        "    print(\"# \" + doc.metadata[\"title\"])\n",
        "    print(doc.page_content[:100])\n",
        "    print(doc.metadata[\"year\"])\n"
      ],
      "metadata": {
        "colab": {
          "base_uri": "https://localhost:8080/"
        },
        "id": "w5OgKGLiAGUE",
        "outputId": "02f65bd4-6c82-47c8-d7e4-32b3c6c60730"
      },
      "execution_count": null,
      "outputs": [
        {
          "output_type": "stream",
          "name": "stdout",
          "text": [
            "# Last Action Hero\n",
            "With the help of a magic ticket, a young film fan is transported into the fictional world of his fav\n",
            "1993\n",
            "# Showtime\n",
            "A spoof of buddy cop movies where two very different cops are forced to team up on a new reality bas\n",
            "2002\n",
            "# The Gods Must Be Crazy\n",
            "A comic allegory about a traveling Bushman who encounters modern civilization and its stranger aspec\n",
            "1980\n",
            "# King Size\n",
            "A comedy. The story follows a young scientist in the contemporary world, who actually came from the \n",
            "1988\n"
          ]
        }
      ]
    },
    {
      "cell_type": "markdown",
      "source": [
        "## Complex query"
      ],
      "metadata": {
        "id": "tyPSq4LyHFID"
      }
    },
    {
      "cell_type": "code",
      "source": [
        "query = \"Comedy movies with imaginary characters released between 1980 & 1990\""
      ],
      "metadata": {
        "id": "_WZktq14o-Pq"
      },
      "execution_count": null,
      "outputs": []
    },
    {
      "cell_type": "code",
      "source": [
        "docs = vectorstore.similarity_search(query)\n",
        "for doc in docs:\n",
        "    print(\"# \" + doc.metadata[\"title\"])\n",
        "    print(doc.page_content[:100])\n",
        "    print(doc.metadata[\"year\"])"
      ],
      "metadata": {
        "colab": {
          "base_uri": "https://localhost:8080/"
        },
        "id": "zWDoNquzRyhF",
        "outputId": "01c794cb-3f9b-4170-e632-c220712a4a73"
      },
      "execution_count": null,
      "outputs": [
        {
          "output_type": "stream",
          "name": "stdout",
          "text": [
            "# The Purple Rose of Cairo\n",
            "In 1930s New Jersey, a movie character walks off the screen and into the real world.\n",
            "1985\n",
            "# Pleasantville\n",
            "Two 1990s teenagers find themselves in a 1950s sitcom where their influence begins to profoundly cha\n",
            "1998\n",
            "# Last Action Hero\n",
            "With the help of a magic ticket, a young film fan is transported into the fictional world of his fav\n",
            "1993\n",
            "# Fat Albert\n",
            "Fat Albert and the Cosby Kids come to life and step out of their animated, inner-city Philadelphia w\n",
            "2004\n"
          ]
        }
      ]
    },
    {
      "cell_type": "markdown",
      "source": [
        "# Metadata Pre-filtering"
      ],
      "metadata": {
        "id": "Gw-_qFcF2-Zo"
      }
    },
    {
      "cell_type": "code",
      "source": [
        "# Update the vector search index to filter on year\n",
        "vectorstore.create_vector_search_index(1536, filters=[\"year\"], update=True)"
      ],
      "metadata": {
        "id": "X4ceiFMv3CjE"
      },
      "execution_count": null,
      "outputs": []
    },
    {
      "cell_type": "markdown",
      "source": [
        "## Query Re-writer"
      ],
      "metadata": {
        "id": "FVrHXDzkMYjV"
      }
    },
    {
      "cell_type": "code",
      "source": [
        "query = \"Comedy movies with imaginary characters released between 1980 & 1990\""
      ],
      "metadata": {
        "id": "NfWKqlApnagU"
      },
      "execution_count": null,
      "outputs": []
    },
    {
      "cell_type": "code",
      "source": [
        "### Question Re-writer\n",
        "from langchain_core.prompts import ChatPromptTemplate\n",
        "from langchain.schema.output_parser import StrOutputParser\n",
        "\n",
        "def rewrite_query(query):\n",
        "    llm = ChatOpenAI(model_name=\"gpt-3.5-turbo\", temperature=0.5)\n",
        "    re_write_prompt = ChatPromptTemplate.from_messages(\n",
        "        [\n",
        "            (\"system\",\n",
        "                \"\"\"You a question re-writer that converts an input question to a better version that is optimized \\n\n",
        "                for vector search retrieval. Look at the input and if it contains date range return a JSON with original query , start year, end year.\n",
        "                Otherwise return a JSON with original query.\n",
        "                \"\"\"\n",
        "\n",
        "            ),\n",
        "            (\n",
        "                \"human\",\n",
        "                    \"Here is the initial question: \\n\\n {question} \\n Formulate an improved question.\",\n",
        "            ),\n",
        "        ]\n",
        "    )\n",
        "\n",
        "    question_rewriter = re_write_prompt | llm | StrOutputParser()\n",
        "    return question_rewriter.invoke({\"question\": query})\n"
      ],
      "metadata": {
        "id": "sBuhea38ncnI"
      },
      "execution_count": null,
      "outputs": []
    },
    {
      "cell_type": "code",
      "source": [
        "rewritten_query = rewrite_query(query)\n",
        "print(rewritten_query)"
      ],
      "metadata": {
        "colab": {
          "base_uri": "https://localhost:8080/"
        },
        "id": "eB-_xhKOrRVf",
        "outputId": "f0ca0d70-14bb-4524-842b-c3f5d4d3b55a"
      },
      "execution_count": null,
      "outputs": [
        {
          "output_type": "stream",
          "name": "stdout",
          "text": [
            "{\n",
            "    \"original_query\": \"Comedy movies with imaginary characters released between 1980 & 1990\",\n",
            "    \"start_year\": 1980,\n",
            "    \"end_year\": 1990\n",
            "}\n"
          ]
        }
      ]
    },
    {
      "cell_type": "code",
      "source": [
        "import json\n",
        "\n",
        "def get_mql_filter(rewritten_query):\n",
        "    q = json.loads(rewritten_query)\n",
        "    return {\n",
        "        '$and': [\n",
        "                 {\n",
        "            'year': {\n",
        "              '$lt': q['end_year']\n",
        "            },\n",
        "                 },\n",
        "                 {\n",
        "\n",
        "            'year': {\n",
        "              '$gt': q['start_year']\n",
        "            }\n",
        "\n",
        "          }\n",
        "        ]\n",
        "      }\n"
      ],
      "metadata": {
        "id": "VLxzdBaB55wA"
      },
      "execution_count": null,
      "outputs": []
    },
    {
      "cell_type": "code",
      "source": [
        "mql = get_mql_filter(rewritten_query)\n",
        "print(mql)\n",
        "docs = vectorstore.similarity_search(query, pre_filter=mql)\n",
        "for doc in docs:\n",
        "    print(\"# \" + doc.metadata[\"title\"])\n",
        "    print(doc.page_content[:100])\n",
        "    print(doc.metadata[\"year\"])"
      ],
      "metadata": {
        "colab": {
          "base_uri": "https://localhost:8080/"
        },
        "id": "tvD14ODI4ar1",
        "outputId": "8127153a-b363-4d0b-90bc-7d1de4cb7617"
      },
      "execution_count": null,
      "outputs": [
        {
          "output_type": "stream",
          "name": "stdout",
          "text": [
            "{'$and': [{'year': {'$lt': 1990}}, {'year': {'$gt': 1980}}]}\n",
            "# The Purple Rose of Cairo\n",
            "In 1930s New Jersey, a movie character walks off the screen and into the real world.\n",
            "1985\n",
            "# Hercules\n",
            "The story of the Greek mythological figure, updated in this 80's version.\n",
            "1983\n",
            "# King Size\n",
            "A comedy. The story follows a young scientist in the contemporary world, who actually came from the \n",
            "1988\n",
            "# Armour of God\n",
            "Jackie Chan and his bumbling sidekick are sent on a quest through Europe to find a mysterious treasu\n",
            "1986\n"
          ]
        }
      ]
    },
    {
      "cell_type": "markdown",
      "source": [
        "# RAG"
      ],
      "metadata": {
        "id": "wcuj933m2bve"
      }
    },
    {
      "cell_type": "code",
      "source": [
        "from langchain import hub\n",
        "from langchain_core.output_parsers import StrOutputParser\n",
        "from langchain_core.runnables import RunnablePassthrough\n",
        "\n",
        "retriever = vectorstore.as_retriever()\n",
        "# Prompt\n",
        "prompt = hub.pull(\"rlm/rag-prompt\")\n",
        "\n",
        "# Chain\n",
        "rag_chain = (\n",
        "    {\"context\": retriever ,  \"question\": RunnablePassthrough()}\n",
        "    | prompt\n",
        "    | llm\n",
        ")\n"
      ],
      "metadata": {
        "id": "r5e29j9t2crA"
      },
      "execution_count": null,
      "outputs": []
    },
    {
      "cell_type": "code",
      "source": [
        "query = \"Suggest me a movie that can lift my spirits. I like fiction.\""
      ],
      "metadata": {
        "id": "Fjemblt9H72C"
      },
      "execution_count": null,
      "outputs": []
    },
    {
      "cell_type": "code",
      "source": [
        "rag_result = rag_chain.invoke(query)\n",
        "print(rag_result)"
      ],
      "metadata": {
        "colab": {
          "base_uri": "https://localhost:8080/"
        },
        "id": "S5v9weLc2j1h",
        "outputId": "569a5de5-93c8-4568-f238-ae51b169ba7f"
      },
      "execution_count": null,
      "outputs": [
        {
          "output_type": "stream",
          "name": "stdout",
          "text": [
            "content='I suggest you watch \"Last Action Hero.\" It is a fiction movie that can lift your spirits with its action-packed and comedic storyline. The film features Arnold Schwarzenegger as a larger-than-life action hero.' additional_kwargs={'refusal': None} response_metadata={'token_usage': {'completion_tokens': 43, 'prompt_tokens': 2552, 'total_tokens': 2595, 'completion_tokens_details': {'audio_tokens': None, 'reasoning_tokens': 0}, 'prompt_tokens_details': {'audio_tokens': None, 'cached_tokens': 0}}, 'model_name': 'gpt-3.5-turbo-0125', 'system_fingerprint': None, 'finish_reason': 'stop', 'logprobs': None} id='run-17826cdb-5933-446c-bc97-08d39eea848e-0' usage_metadata={'input_tokens': 2552, 'output_tokens': 43, 'total_tokens': 2595, 'input_token_details': {'cache_read': 0}, 'output_token_details': {'reasoning': 0}}\n"
          ]
        }
      ]
    },
    {
      "cell_type": "code",
      "source": [
        "rag_result = rag_chain.invoke(\"I dont like this one. Suggest me another\")\n",
        "print(rag_result)"
      ],
      "metadata": {
        "colab": {
          "base_uri": "https://localhost:8080/"
        },
        "id": "RyYgRkEhh_KT",
        "outputId": "e1843efe-8308-4d5b-bb8f-8d60ea4969cb"
      },
      "execution_count": null,
      "outputs": [
        {
          "output_type": "stream",
          "name": "stdout",
          "text": [
            "content=\"I don't know.\" additional_kwargs={'refusal': None} response_metadata={'token_usage': {'completion_tokens': 5, 'prompt_tokens': 2546, 'total_tokens': 2551, 'completion_tokens_details': {'audio_tokens': None, 'reasoning_tokens': 0}, 'prompt_tokens_details': {'audio_tokens': None, 'cached_tokens': 0}}, 'model_name': 'gpt-3.5-turbo-0125', 'system_fingerprint': None, 'finish_reason': 'stop', 'logprobs': None} id='run-4737d1ad-f8c7-4f87-8441-8de4a3f1df1d-0' usage_metadata={'input_tokens': 2546, 'output_tokens': 5, 'total_tokens': 2551, 'input_token_details': {'cache_read': 0}, 'output_token_details': {'reasoning': 0}}\n"
          ]
        }
      ]
    },
    {
      "cell_type": "markdown",
      "source": [
        "# Convo History"
      ],
      "metadata": {
        "id": "5JJQZsnUqYvr"
      }
    },
    {
      "cell_type": "code",
      "source": [
        "from langchain_core.prompts import ChatPromptTemplate, MessagesPlaceholder\n",
        "from langchain_core.runnables.history import RunnableWithMessageHistory\n",
        "from langchain_openai import ChatOpenAI\n",
        "from langchain_mongodb.chat_message_histories import MongoDBChatMessageHistory\n",
        "\n"
      ],
      "metadata": {
        "id": "Lq4fVRcNqdCX"
      },
      "execution_count": null,
      "outputs": []
    },
    {
      "cell_type": "code",
      "source": [
        "prompt = ChatPromptTemplate.from_messages(\n",
        "    [\n",
        "        (\"system\", \"You are a helpful assistant.\"),\n",
        "        MessagesPlaceholder(variable_name=\"history\"),\n",
        "        (\"human\", \"{question}\"),\n",
        "    ]\n",
        ")\n",
        "\n",
        "chain = prompt | ChatOpenAI()"
      ],
      "metadata": {
        "id": "bHdmZES-qanI"
      },
      "execution_count": null,
      "outputs": []
    },
    {
      "cell_type": "code",
      "source": [
        "chain_with_history = RunnableWithMessageHistory(\n",
        "    chain,\n",
        "    lambda session_id: MongoDBChatMessageHistory(MONGO_URI, session_id, database_name=DB_NAME, collection_name=\"history\"),\n",
        "    input_messages_key=\"question\",\n",
        "    history_messages_key=\"history\",\n",
        ")\n",
        "\n"
      ],
      "metadata": {
        "id": "tBa7wScyqgFi"
      },
      "execution_count": null,
      "outputs": []
    },
    {
      "cell_type": "code",
      "source": [
        "# This is where we configure the session id\n",
        "config = {\"configurable\": {\"session_id\": \"<SESSION_ID>\"}}\n"
      ],
      "metadata": {
        "id": "vf8zFMuSqtHO"
      },
      "execution_count": null,
      "outputs": []
    },
    {
      "cell_type": "code",
      "source": [
        "chain_with_history.invoke({\"question\": \"Hi! I'm bob\"}, config=config).content\n",
        "\n"
      ],
      "metadata": {
        "colab": {
          "base_uri": "https://localhost:8080/",
          "height": 35
        },
        "id": "cNjhSCWtquML",
        "outputId": "b2104c6f-a25d-471d-804d-bae5ce0a3518"
      },
      "execution_count": null,
      "outputs": [
        {
          "output_type": "execute_result",
          "data": {
            "text/plain": [
              "'Hello Bob! How can I assist you today?'"
            ],
            "application/vnd.google.colaboratory.intrinsic+json": {
              "type": "string"
            }
          },
          "metadata": {},
          "execution_count": 106
        }
      ]
    },
    {
      "cell_type": "code",
      "source": [
        "chain_with_history.invoke({\"question\": \"Whats my name\"}, config=config).content"
      ],
      "metadata": {
        "colab": {
          "base_uri": "https://localhost:8080/",
          "height": 35
        },
        "id": "LO9yncSfq3S1",
        "outputId": "0c8fbfa1-df4d-47a1-a677-3b653327f930"
      },
      "execution_count": null,
      "outputs": [
        {
          "output_type": "execute_result",
          "data": {
            "text/plain": [
              "'Your name is Bob.'"
            ],
            "application/vnd.google.colaboratory.intrinsic+json": {
              "type": "string"
            }
          },
          "metadata": {},
          "execution_count": 107
        }
      ]
    }
  ]
}